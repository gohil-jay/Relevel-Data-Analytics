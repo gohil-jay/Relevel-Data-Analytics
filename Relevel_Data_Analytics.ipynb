{
  "nbformat": 4,
  "nbformat_minor": 0,
  "metadata": {
    "colab": {
      "name": "Relevel Data Analytics.ipynb",
      "provenance": [],
      "collapsed_sections": []
    },
    "kernelspec": {
      "name": "python3",
      "display_name": "Python 3"
    }
  },
  "cells": [
    {
      "cell_type": "markdown",
      "metadata": {
        "id": "U6W0fZSaQYTF"
      },
      "source": [
        "# **Data Analytics - Relevel**\n",
        "\n",
        "Jay Gohil\n",
        "\n",
        "---"
      ]
    },
    {
      "cell_type": "markdown",
      "metadata": {
        "id": "-vu3OK01Qly6"
      },
      "source": [
        "# **Installing and importing necessary libraries**\n",
        "\n",
        "---"
      ]
    },
    {
      "cell_type": "code",
      "metadata": {
        "id": "JyMwVcY8SLjB"
      },
      "source": [
        "#Impoting necessary packages and libraries\n",
        "import datetime\n",
        "import pandas as pd\n",
        "import matplotlib.pyplot as plt"
      ],
      "execution_count": null,
      "outputs": []
    },
    {
      "cell_type": "markdown",
      "metadata": {
        "id": "29iSZFr3QvNe"
      },
      "source": [
        "# **Acquring the data from URL**\n",
        "\n",
        "---"
      ]
    },
    {
      "cell_type": "code",
      "metadata": {
        "id": "bmCDj5bLSPH-",
        "colab": {
          "base_uri": "https://localhost:8080/",
          "height": 402
        },
        "outputId": "43b6839e-4474-414c-a08d-86e0d76a896d"
      },
      "source": [
        "#Taking the data\n",
        "data = 'https://raw.githubusercontent.com/github-goog/colab/main/Relevel.csv'\n",
        "\n",
        "dataset = pd.read_csv(data)\n",
        "\n",
        "dataset"
      ],
      "execution_count": null,
      "outputs": [
        {
          "output_type": "execute_result",
          "data": {
            "text/html": [
              "<div>\n",
              "<style scoped>\n",
              "    .dataframe tbody tr th:only-of-type {\n",
              "        vertical-align: middle;\n",
              "    }\n",
              "\n",
              "    .dataframe tbody tr th {\n",
              "        vertical-align: top;\n",
              "    }\n",
              "\n",
              "    .dataframe thead th {\n",
              "        text-align: right;\n",
              "    }\n",
              "</style>\n",
              "<table border=\"1\" class=\"dataframe\">\n",
              "  <thead>\n",
              "    <tr style=\"text-align: right;\">\n",
              "      <th></th>\n",
              "      <th>Order ID</th>\n",
              "      <th>Customer Name</th>\n",
              "      <th>Product</th>\n",
              "      <th>Region</th>\n",
              "      <th>Sales ('000, USD)</th>\n",
              "      <th>Registered At</th>\n",
              "      <th>Purchased At</th>\n",
              "      <th>Refunded</th>\n",
              "      <th>Origin</th>\n",
              "    </tr>\n",
              "  </thead>\n",
              "  <tbody>\n",
              "    <tr>\n",
              "      <th>0</th>\n",
              "      <td>1</td>\n",
              "      <td>Jones</td>\n",
              "      <td>A</td>\n",
              "      <td>South</td>\n",
              "      <td>500</td>\n",
              "      <td>12/01/18 02:00</td>\n",
              "      <td>12/06/18 18:59</td>\n",
              "      <td>False</td>\n",
              "      <td>referral</td>\n",
              "    </tr>\n",
              "    <tr>\n",
              "      <th>1</th>\n",
              "      <td>2</td>\n",
              "      <td>Kivell</td>\n",
              "      <td>B</td>\n",
              "      <td>East</td>\n",
              "      <td>400</td>\n",
              "      <td>12/01/18 12:23</td>\n",
              "      <td>12/06/18 19:54</td>\n",
              "      <td>False</td>\n",
              "      <td>display</td>\n",
              "    </tr>\n",
              "    <tr>\n",
              "      <th>2</th>\n",
              "      <td>3</td>\n",
              "      <td>James</td>\n",
              "      <td>G</td>\n",
              "      <td>North</td>\n",
              "      <td>100</td>\n",
              "      <td>12/01/18 13:49</td>\n",
              "      <td>13/06/18 16:37</td>\n",
              "      <td>False</td>\n",
              "      <td>social</td>\n",
              "    </tr>\n",
              "    <tr>\n",
              "      <th>3</th>\n",
              "      <td>4</td>\n",
              "      <td>Jack</td>\n",
              "      <td>F</td>\n",
              "      <td>West</td>\n",
              "      <td>200</td>\n",
              "      <td>12/01/18 16:07</td>\n",
              "      <td>14/06/18 14:30</td>\n",
              "      <td>False</td>\n",
              "      <td>social</td>\n",
              "    </tr>\n",
              "    <tr>\n",
              "      <th>4</th>\n",
              "      <td>5</td>\n",
              "      <td>Anny</td>\n",
              "      <td>B</td>\n",
              "      <td>Central</td>\n",
              "      <td>250</td>\n",
              "      <td>12/01/18 18:25</td>\n",
              "      <td>14/06/18 15:43</td>\n",
              "      <td>True</td>\n",
              "      <td>other</td>\n",
              "    </tr>\n",
              "    <tr>\n",
              "      <th>...</th>\n",
              "      <td>...</td>\n",
              "      <td>...</td>\n",
              "      <td>...</td>\n",
              "      <td>...</td>\n",
              "      <td>...</td>\n",
              "      <td>...</td>\n",
              "      <td>...</td>\n",
              "      <td>...</td>\n",
              "      <td>...</td>\n",
              "    </tr>\n",
              "    <tr>\n",
              "      <th>145</th>\n",
              "      <td>146</td>\n",
              "      <td>Thompson</td>\n",
              "      <td>C</td>\n",
              "      <td>South</td>\n",
              "      <td>300</td>\n",
              "      <td>22/02/18 21:25</td>\n",
              "      <td>01/11/18 15:36</td>\n",
              "      <td>False</td>\n",
              "      <td>social</td>\n",
              "    </tr>\n",
              "    <tr>\n",
              "      <th>146</th>\n",
              "      <td>147</td>\n",
              "      <td>Mathew</td>\n",
              "      <td>C</td>\n",
              "      <td>Central</td>\n",
              "      <td>110</td>\n",
              "      <td>23/02/18 11:40</td>\n",
              "      <td>06/11/18 19:41</td>\n",
              "      <td>False</td>\n",
              "      <td>organic_search</td>\n",
              "    </tr>\n",
              "    <tr>\n",
              "      <th>147</th>\n",
              "      <td>148</td>\n",
              "      <td>Gill</td>\n",
              "      <td>F</td>\n",
              "      <td>East</td>\n",
              "      <td>335</td>\n",
              "      <td>23/02/18 12:03</td>\n",
              "      <td>09/11/18 20:06</td>\n",
              "      <td>False</td>\n",
              "      <td>paid_search</td>\n",
              "    </tr>\n",
              "    <tr>\n",
              "      <th>148</th>\n",
              "      <td>149</td>\n",
              "      <td>Amy</td>\n",
              "      <td>A</td>\n",
              "      <td>South</td>\n",
              "      <td>235</td>\n",
              "      <td>23/02/18 13:54</td>\n",
              "      <td>12/11/18 19:17</td>\n",
              "      <td>False</td>\n",
              "      <td>social</td>\n",
              "    </tr>\n",
              "    <tr>\n",
              "      <th>149</th>\n",
              "      <td>150</td>\n",
              "      <td>Gill</td>\n",
              "      <td>B</td>\n",
              "      <td>East</td>\n",
              "      <td>135</td>\n",
              "      <td>23/02/18 20:27</td>\n",
              "      <td>14/11/18 18:04</td>\n",
              "      <td>False</td>\n",
              "      <td>paid_search</td>\n",
              "    </tr>\n",
              "  </tbody>\n",
              "</table>\n",
              "<p>150 rows × 9 columns</p>\n",
              "</div>"
            ],
            "text/plain": [
              "     Order ID Customer Name Product  ...    Purchased At  Refunded          Origin\n",
              "0           1         Jones       A  ...  12/06/18 18:59     False        referral\n",
              "1           2        Kivell       B  ...  12/06/18 19:54     False         display\n",
              "2           3         James       G  ...  13/06/18 16:37     False          social\n",
              "3           4          Jack       F  ...  14/06/18 14:30     False          social\n",
              "4           5          Anny       B  ...  14/06/18 15:43      True           other\n",
              "..        ...           ...     ...  ...             ...       ...             ...\n",
              "145       146      Thompson       C  ...  01/11/18 15:36     False          social\n",
              "146       147        Mathew       C  ...  06/11/18 19:41     False  organic_search\n",
              "147       148          Gill       F  ...  09/11/18 20:06     False     paid_search\n",
              "148       149           Amy       A  ...  12/11/18 19:17     False          social\n",
              "149       150          Gill       B  ...  14/11/18 18:04     False     paid_search\n",
              "\n",
              "[150 rows x 9 columns]"
            ]
          },
          "metadata": {
            "tags": []
          },
          "execution_count": 2
        }
      ]
    },
    {
      "cell_type": "markdown",
      "metadata": {
        "id": "U4JWqfHxQ-Mq"
      },
      "source": [
        "# **Engineering the data**\n",
        "\n",
        "---"
      ]
    },
    {
      "cell_type": "code",
      "metadata": {
        "colab": {
          "base_uri": "https://localhost:8080/",
          "height": 402
        },
        "id": "fvaNkauoVmoF",
        "outputId": "786f2093-4a4b-4e5c-b378-27e5ef8eff63"
      },
      "source": [
        "dataset.drop(dataset.columns[[0, 1]], 1, inplace=True)\n",
        "dataset.rename(columns={\"Sales ('000, USD)\" : \"Sales\"}, inplace=True)\n",
        "\n",
        "#Printing the dataset\n",
        "dataset"
      ],
      "execution_count": null,
      "outputs": [
        {
          "output_type": "execute_result",
          "data": {
            "text/html": [
              "<div>\n",
              "<style scoped>\n",
              "    .dataframe tbody tr th:only-of-type {\n",
              "        vertical-align: middle;\n",
              "    }\n",
              "\n",
              "    .dataframe tbody tr th {\n",
              "        vertical-align: top;\n",
              "    }\n",
              "\n",
              "    .dataframe thead th {\n",
              "        text-align: right;\n",
              "    }\n",
              "</style>\n",
              "<table border=\"1\" class=\"dataframe\">\n",
              "  <thead>\n",
              "    <tr style=\"text-align: right;\">\n",
              "      <th></th>\n",
              "      <th>Product</th>\n",
              "      <th>Region</th>\n",
              "      <th>Sales</th>\n",
              "      <th>Registered At</th>\n",
              "      <th>Purchased At</th>\n",
              "      <th>Refunded</th>\n",
              "      <th>Origin</th>\n",
              "    </tr>\n",
              "  </thead>\n",
              "  <tbody>\n",
              "    <tr>\n",
              "      <th>0</th>\n",
              "      <td>A</td>\n",
              "      <td>South</td>\n",
              "      <td>500</td>\n",
              "      <td>12/01/18 02:00</td>\n",
              "      <td>12/06/18 18:59</td>\n",
              "      <td>False</td>\n",
              "      <td>referral</td>\n",
              "    </tr>\n",
              "    <tr>\n",
              "      <th>1</th>\n",
              "      <td>B</td>\n",
              "      <td>East</td>\n",
              "      <td>400</td>\n",
              "      <td>12/01/18 12:23</td>\n",
              "      <td>12/06/18 19:54</td>\n",
              "      <td>False</td>\n",
              "      <td>display</td>\n",
              "    </tr>\n",
              "    <tr>\n",
              "      <th>2</th>\n",
              "      <td>G</td>\n",
              "      <td>North</td>\n",
              "      <td>100</td>\n",
              "      <td>12/01/18 13:49</td>\n",
              "      <td>13/06/18 16:37</td>\n",
              "      <td>False</td>\n",
              "      <td>social</td>\n",
              "    </tr>\n",
              "    <tr>\n",
              "      <th>3</th>\n",
              "      <td>F</td>\n",
              "      <td>West</td>\n",
              "      <td>200</td>\n",
              "      <td>12/01/18 16:07</td>\n",
              "      <td>14/06/18 14:30</td>\n",
              "      <td>False</td>\n",
              "      <td>social</td>\n",
              "    </tr>\n",
              "    <tr>\n",
              "      <th>4</th>\n",
              "      <td>B</td>\n",
              "      <td>Central</td>\n",
              "      <td>250</td>\n",
              "      <td>12/01/18 18:25</td>\n",
              "      <td>14/06/18 15:43</td>\n",
              "      <td>True</td>\n",
              "      <td>other</td>\n",
              "    </tr>\n",
              "    <tr>\n",
              "      <th>...</th>\n",
              "      <td>...</td>\n",
              "      <td>...</td>\n",
              "      <td>...</td>\n",
              "      <td>...</td>\n",
              "      <td>...</td>\n",
              "      <td>...</td>\n",
              "      <td>...</td>\n",
              "    </tr>\n",
              "    <tr>\n",
              "      <th>145</th>\n",
              "      <td>C</td>\n",
              "      <td>South</td>\n",
              "      <td>300</td>\n",
              "      <td>22/02/18 21:25</td>\n",
              "      <td>01/11/18 15:36</td>\n",
              "      <td>False</td>\n",
              "      <td>social</td>\n",
              "    </tr>\n",
              "    <tr>\n",
              "      <th>146</th>\n",
              "      <td>C</td>\n",
              "      <td>Central</td>\n",
              "      <td>110</td>\n",
              "      <td>23/02/18 11:40</td>\n",
              "      <td>06/11/18 19:41</td>\n",
              "      <td>False</td>\n",
              "      <td>organic_search</td>\n",
              "    </tr>\n",
              "    <tr>\n",
              "      <th>147</th>\n",
              "      <td>F</td>\n",
              "      <td>East</td>\n",
              "      <td>335</td>\n",
              "      <td>23/02/18 12:03</td>\n",
              "      <td>09/11/18 20:06</td>\n",
              "      <td>False</td>\n",
              "      <td>paid_search</td>\n",
              "    </tr>\n",
              "    <tr>\n",
              "      <th>148</th>\n",
              "      <td>A</td>\n",
              "      <td>South</td>\n",
              "      <td>235</td>\n",
              "      <td>23/02/18 13:54</td>\n",
              "      <td>12/11/18 19:17</td>\n",
              "      <td>False</td>\n",
              "      <td>social</td>\n",
              "    </tr>\n",
              "    <tr>\n",
              "      <th>149</th>\n",
              "      <td>B</td>\n",
              "      <td>East</td>\n",
              "      <td>135</td>\n",
              "      <td>23/02/18 20:27</td>\n",
              "      <td>14/11/18 18:04</td>\n",
              "      <td>False</td>\n",
              "      <td>paid_search</td>\n",
              "    </tr>\n",
              "  </tbody>\n",
              "</table>\n",
              "<p>150 rows × 7 columns</p>\n",
              "</div>"
            ],
            "text/plain": [
              "    Product   Region  Sales  ...    Purchased At Refunded          Origin\n",
              "0         A    South    500  ...  12/06/18 18:59    False        referral\n",
              "1         B     East    400  ...  12/06/18 19:54    False         display\n",
              "2         G    North    100  ...  13/06/18 16:37    False          social\n",
              "3         F     West    200  ...  14/06/18 14:30    False          social\n",
              "4         B  Central    250  ...  14/06/18 15:43     True           other\n",
              "..      ...      ...    ...  ...             ...      ...             ...\n",
              "145       C    South    300  ...  01/11/18 15:36    False          social\n",
              "146       C  Central    110  ...  06/11/18 19:41    False  organic_search\n",
              "147       F     East    335  ...  09/11/18 20:06    False     paid_search\n",
              "148       A    South    235  ...  12/11/18 19:17    False          social\n",
              "149       B     East    135  ...  14/11/18 18:04    False     paid_search\n",
              "\n",
              "[150 rows x 7 columns]"
            ]
          },
          "metadata": {
            "tags": []
          },
          "execution_count": 3
        }
      ]
    },
    {
      "cell_type": "code",
      "metadata": {
        "colab": {
          "base_uri": "https://localhost:8080/",
          "height": 402
        },
        "id": "Xz6j6iwSVmXt",
        "outputId": "cb9219c5-244e-4f0d-bcb0-b45cda936918"
      },
      "source": [
        "format = \"%d/%m/%y %H:%M\"\n",
        "\n",
        "time_arr = []\n",
        "\n",
        "for i in range (len(dataset)):\n",
        "  initial_date = date = datetime.datetime.strptime(dataset[\"Registered At\"][i], format)\n",
        "  final_date = datetime.datetime.strptime(dataset[\"Purchased At\"][i], format)\n",
        "  time_interval = final_date - initial_date\n",
        "\n",
        "  try:\n",
        "    if (int(str(time_interval)[10:12]) > 12):\n",
        "      time = int(str(time_interval)[0:3]) + 1\n",
        "  except:\n",
        "    time = int(str(time_interval)[0:3])\n",
        "  \n",
        "  time_arr.append(time)\n",
        "\n",
        "#dataset[['Time']] = 0\n",
        "\n",
        "for i in range (len(dataset)):\n",
        "  dataset.loc[i,\"Time\"] = time_arr[i]\n",
        "\n",
        "dataset"
      ],
      "execution_count": null,
      "outputs": [
        {
          "output_type": "execute_result",
          "data": {
            "text/html": [
              "<div>\n",
              "<style scoped>\n",
              "    .dataframe tbody tr th:only-of-type {\n",
              "        vertical-align: middle;\n",
              "    }\n",
              "\n",
              "    .dataframe tbody tr th {\n",
              "        vertical-align: top;\n",
              "    }\n",
              "\n",
              "    .dataframe thead th {\n",
              "        text-align: right;\n",
              "    }\n",
              "</style>\n",
              "<table border=\"1\" class=\"dataframe\">\n",
              "  <thead>\n",
              "    <tr style=\"text-align: right;\">\n",
              "      <th></th>\n",
              "      <th>Product</th>\n",
              "      <th>Region</th>\n",
              "      <th>Sales</th>\n",
              "      <th>Registered At</th>\n",
              "      <th>Purchased At</th>\n",
              "      <th>Refunded</th>\n",
              "      <th>Origin</th>\n",
              "      <th>Time</th>\n",
              "    </tr>\n",
              "  </thead>\n",
              "  <tbody>\n",
              "    <tr>\n",
              "      <th>0</th>\n",
              "      <td>A</td>\n",
              "      <td>South</td>\n",
              "      <td>500</td>\n",
              "      <td>12/01/18 02:00</td>\n",
              "      <td>12/06/18 18:59</td>\n",
              "      <td>False</td>\n",
              "      <td>referral</td>\n",
              "      <td>152.0</td>\n",
              "    </tr>\n",
              "    <tr>\n",
              "      <th>1</th>\n",
              "      <td>B</td>\n",
              "      <td>East</td>\n",
              "      <td>400</td>\n",
              "      <td>12/01/18 12:23</td>\n",
              "      <td>12/06/18 19:54</td>\n",
              "      <td>False</td>\n",
              "      <td>display</td>\n",
              "      <td>151.0</td>\n",
              "    </tr>\n",
              "    <tr>\n",
              "      <th>2</th>\n",
              "      <td>G</td>\n",
              "      <td>North</td>\n",
              "      <td>100</td>\n",
              "      <td>12/01/18 13:49</td>\n",
              "      <td>13/06/18 16:37</td>\n",
              "      <td>False</td>\n",
              "      <td>social</td>\n",
              "      <td>152.0</td>\n",
              "    </tr>\n",
              "    <tr>\n",
              "      <th>3</th>\n",
              "      <td>F</td>\n",
              "      <td>West</td>\n",
              "      <td>200</td>\n",
              "      <td>12/01/18 16:07</td>\n",
              "      <td>14/06/18 14:30</td>\n",
              "      <td>False</td>\n",
              "      <td>social</td>\n",
              "      <td>153.0</td>\n",
              "    </tr>\n",
              "    <tr>\n",
              "      <th>4</th>\n",
              "      <td>B</td>\n",
              "      <td>Central</td>\n",
              "      <td>250</td>\n",
              "      <td>12/01/18 18:25</td>\n",
              "      <td>14/06/18 15:43</td>\n",
              "      <td>True</td>\n",
              "      <td>other</td>\n",
              "      <td>153.0</td>\n",
              "    </tr>\n",
              "    <tr>\n",
              "      <th>...</th>\n",
              "      <td>...</td>\n",
              "      <td>...</td>\n",
              "      <td>...</td>\n",
              "      <td>...</td>\n",
              "      <td>...</td>\n",
              "      <td>...</td>\n",
              "      <td>...</td>\n",
              "      <td>...</td>\n",
              "    </tr>\n",
              "    <tr>\n",
              "      <th>145</th>\n",
              "      <td>C</td>\n",
              "      <td>South</td>\n",
              "      <td>300</td>\n",
              "      <td>22/02/18 21:25</td>\n",
              "      <td>01/11/18 15:36</td>\n",
              "      <td>False</td>\n",
              "      <td>social</td>\n",
              "      <td>252.0</td>\n",
              "    </tr>\n",
              "    <tr>\n",
              "      <th>146</th>\n",
              "      <td>C</td>\n",
              "      <td>Central</td>\n",
              "      <td>110</td>\n",
              "      <td>23/02/18 11:40</td>\n",
              "      <td>06/11/18 19:41</td>\n",
              "      <td>False</td>\n",
              "      <td>organic_search</td>\n",
              "      <td>256.0</td>\n",
              "    </tr>\n",
              "    <tr>\n",
              "      <th>147</th>\n",
              "      <td>F</td>\n",
              "      <td>East</td>\n",
              "      <td>335</td>\n",
              "      <td>23/02/18 12:03</td>\n",
              "      <td>09/11/18 20:06</td>\n",
              "      <td>False</td>\n",
              "      <td>paid_search</td>\n",
              "      <td>259.0</td>\n",
              "    </tr>\n",
              "    <tr>\n",
              "      <th>148</th>\n",
              "      <td>A</td>\n",
              "      <td>South</td>\n",
              "      <td>235</td>\n",
              "      <td>23/02/18 13:54</td>\n",
              "      <td>12/11/18 19:17</td>\n",
              "      <td>False</td>\n",
              "      <td>social</td>\n",
              "      <td>262.0</td>\n",
              "    </tr>\n",
              "    <tr>\n",
              "      <th>149</th>\n",
              "      <td>B</td>\n",
              "      <td>East</td>\n",
              "      <td>135</td>\n",
              "      <td>23/02/18 20:27</td>\n",
              "      <td>14/11/18 18:04</td>\n",
              "      <td>False</td>\n",
              "      <td>paid_search</td>\n",
              "      <td>264.0</td>\n",
              "    </tr>\n",
              "  </tbody>\n",
              "</table>\n",
              "<p>150 rows × 8 columns</p>\n",
              "</div>"
            ],
            "text/plain": [
              "    Product   Region  Sales  ... Refunded          Origin   Time\n",
              "0         A    South    500  ...    False        referral  152.0\n",
              "1         B     East    400  ...    False         display  151.0\n",
              "2         G    North    100  ...    False          social  152.0\n",
              "3         F     West    200  ...    False          social  153.0\n",
              "4         B  Central    250  ...     True           other  153.0\n",
              "..      ...      ...    ...  ...      ...             ...    ...\n",
              "145       C    South    300  ...    False          social  252.0\n",
              "146       C  Central    110  ...    False  organic_search  256.0\n",
              "147       F     East    335  ...    False     paid_search  259.0\n",
              "148       A    South    235  ...    False          social  262.0\n",
              "149       B     East    135  ...    False     paid_search  264.0\n",
              "\n",
              "[150 rows x 8 columns]"
            ]
          },
          "metadata": {
            "tags": []
          },
          "execution_count": 4
        }
      ]
    },
    {
      "cell_type": "code",
      "metadata": {
        "colab": {
          "base_uri": "https://localhost:8080/",
          "height": 402
        },
        "id": "gZ8C1DErkjqd",
        "outputId": "b0a289a4-21d0-4935-8999-26d513e361f6"
      },
      "source": [
        "dataset.drop(dataset.columns[[3, 4]], 1, inplace=True)\n",
        "\n",
        "dataset"
      ],
      "execution_count": null,
      "outputs": [
        {
          "output_type": "execute_result",
          "data": {
            "text/html": [
              "<div>\n",
              "<style scoped>\n",
              "    .dataframe tbody tr th:only-of-type {\n",
              "        vertical-align: middle;\n",
              "    }\n",
              "\n",
              "    .dataframe tbody tr th {\n",
              "        vertical-align: top;\n",
              "    }\n",
              "\n",
              "    .dataframe thead th {\n",
              "        text-align: right;\n",
              "    }\n",
              "</style>\n",
              "<table border=\"1\" class=\"dataframe\">\n",
              "  <thead>\n",
              "    <tr style=\"text-align: right;\">\n",
              "      <th></th>\n",
              "      <th>Product</th>\n",
              "      <th>Region</th>\n",
              "      <th>Sales</th>\n",
              "      <th>Refunded</th>\n",
              "      <th>Origin</th>\n",
              "      <th>Time</th>\n",
              "    </tr>\n",
              "  </thead>\n",
              "  <tbody>\n",
              "    <tr>\n",
              "      <th>0</th>\n",
              "      <td>A</td>\n",
              "      <td>South</td>\n",
              "      <td>500</td>\n",
              "      <td>False</td>\n",
              "      <td>referral</td>\n",
              "      <td>152.0</td>\n",
              "    </tr>\n",
              "    <tr>\n",
              "      <th>1</th>\n",
              "      <td>B</td>\n",
              "      <td>East</td>\n",
              "      <td>400</td>\n",
              "      <td>False</td>\n",
              "      <td>display</td>\n",
              "      <td>151.0</td>\n",
              "    </tr>\n",
              "    <tr>\n",
              "      <th>2</th>\n",
              "      <td>G</td>\n",
              "      <td>North</td>\n",
              "      <td>100</td>\n",
              "      <td>False</td>\n",
              "      <td>social</td>\n",
              "      <td>152.0</td>\n",
              "    </tr>\n",
              "    <tr>\n",
              "      <th>3</th>\n",
              "      <td>F</td>\n",
              "      <td>West</td>\n",
              "      <td>200</td>\n",
              "      <td>False</td>\n",
              "      <td>social</td>\n",
              "      <td>153.0</td>\n",
              "    </tr>\n",
              "    <tr>\n",
              "      <th>4</th>\n",
              "      <td>B</td>\n",
              "      <td>Central</td>\n",
              "      <td>250</td>\n",
              "      <td>True</td>\n",
              "      <td>other</td>\n",
              "      <td>153.0</td>\n",
              "    </tr>\n",
              "    <tr>\n",
              "      <th>...</th>\n",
              "      <td>...</td>\n",
              "      <td>...</td>\n",
              "      <td>...</td>\n",
              "      <td>...</td>\n",
              "      <td>...</td>\n",
              "      <td>...</td>\n",
              "    </tr>\n",
              "    <tr>\n",
              "      <th>145</th>\n",
              "      <td>C</td>\n",
              "      <td>South</td>\n",
              "      <td>300</td>\n",
              "      <td>False</td>\n",
              "      <td>social</td>\n",
              "      <td>252.0</td>\n",
              "    </tr>\n",
              "    <tr>\n",
              "      <th>146</th>\n",
              "      <td>C</td>\n",
              "      <td>Central</td>\n",
              "      <td>110</td>\n",
              "      <td>False</td>\n",
              "      <td>organic_search</td>\n",
              "      <td>256.0</td>\n",
              "    </tr>\n",
              "    <tr>\n",
              "      <th>147</th>\n",
              "      <td>F</td>\n",
              "      <td>East</td>\n",
              "      <td>335</td>\n",
              "      <td>False</td>\n",
              "      <td>paid_search</td>\n",
              "      <td>259.0</td>\n",
              "    </tr>\n",
              "    <tr>\n",
              "      <th>148</th>\n",
              "      <td>A</td>\n",
              "      <td>South</td>\n",
              "      <td>235</td>\n",
              "      <td>False</td>\n",
              "      <td>social</td>\n",
              "      <td>262.0</td>\n",
              "    </tr>\n",
              "    <tr>\n",
              "      <th>149</th>\n",
              "      <td>B</td>\n",
              "      <td>East</td>\n",
              "      <td>135</td>\n",
              "      <td>False</td>\n",
              "      <td>paid_search</td>\n",
              "      <td>264.0</td>\n",
              "    </tr>\n",
              "  </tbody>\n",
              "</table>\n",
              "<p>150 rows × 6 columns</p>\n",
              "</div>"
            ],
            "text/plain": [
              "    Product   Region  Sales  Refunded          Origin   Time\n",
              "0         A    South    500     False        referral  152.0\n",
              "1         B     East    400     False         display  151.0\n",
              "2         G    North    100     False          social  152.0\n",
              "3         F     West    200     False          social  153.0\n",
              "4         B  Central    250      True           other  153.0\n",
              "..      ...      ...    ...       ...             ...    ...\n",
              "145       C    South    300     False          social  252.0\n",
              "146       C  Central    110     False  organic_search  256.0\n",
              "147       F     East    335     False     paid_search  259.0\n",
              "148       A    South    235     False          social  262.0\n",
              "149       B     East    135     False     paid_search  264.0\n",
              "\n",
              "[150 rows x 6 columns]"
            ]
          },
          "metadata": {
            "tags": []
          },
          "execution_count": 5
        }
      ]
    },
    {
      "cell_type": "markdown",
      "metadata": {
        "id": "dsQ1NhK1RW_h"
      },
      "source": [
        "# **Gainining Insights**\n",
        "\n",
        "---"
      ]
    },
    {
      "cell_type": "code",
      "metadata": {
        "id": "JxKHuIsglnYM"
      },
      "source": [
        "A_Sales = 0\n",
        "A_count = 0\n",
        "B_Sales = 0\n",
        "B_count = 0\n",
        "C_Sales = 0\n",
        "C_count = 0\n",
        "D_Sales = 0\n",
        "D_count = 0\n",
        "E_Sales = 0\n",
        "E_count = 0\n",
        "F_Sales = 0\n",
        "F_count = 0\n",
        "G_Sales = 0\n",
        "G_count = 0\n",
        "\n",
        "for i in range(len(dataset)):\n",
        "  if dataset[\"Product\"][i] == \"A\":\n",
        "    A_Sales += int(dataset[\"Sales\"][i])\n",
        "    A_count += 1\n",
        "\n",
        "  elif dataset[\"Product\"][i] == \"B\":\n",
        "    B_Sales += int(dataset[\"Sales\"][i])\n",
        "    B_count += 1\n",
        "\n",
        "  elif dataset[\"Product\"][i] == \"C\":\n",
        "    C_Sales += int(dataset[\"Sales\"][i])\n",
        "    C_count += 1\n",
        "\n",
        "  elif dataset[\"Product\"][i] == \"D\":\n",
        "    D_Sales += int(dataset[\"Sales\"][i])\n",
        "    D_count += 1\n",
        "\n",
        "  elif dataset[\"Product\"][i] == \"E\":\n",
        "    E_Sales += int(dataset[\"Sales\"][i])\n",
        "    E_count += 1\n",
        "\n",
        "  elif dataset[\"Product\"][i] == \"F\":\n",
        "    F_Sales += int(dataset[\"Sales\"][i])\n",
        "    F_count += 1\n",
        "\n",
        "  elif dataset[\"Product\"][i] == \"G\":\n",
        "    G_Sales += int(dataset[\"Sales\"][i])\n",
        "    G_count += 1"
      ],
      "execution_count": null,
      "outputs": []
    },
    {
      "cell_type": "code",
      "metadata": {
        "colab": {
          "base_uri": "https://localhost:8080/",
          "height": 285
        },
        "id": "vAmGYXF7pHKc",
        "outputId": "2ac54f53-801e-41c3-a618-3a10fc4e3fca"
      },
      "source": [
        "x1 = [\"A\", \"B\", \"C\", \"D\", \"E\", \"F\", \"G\"]\n",
        "Sales_value = [A_Sales, B_Sales, C_Sales, D_Sales, E_Sales, F_Sales, G_Sales]\n",
        "\n",
        "plt.plot(x1, Sales_value)"
      ],
      "execution_count": null,
      "outputs": [
        {
          "output_type": "execute_result",
          "data": {
            "text/plain": [
              "[<matplotlib.lines.Line2D at 0x7efde6d5e190>]"
            ]
          },
          "metadata": {
            "tags": []
          },
          "execution_count": 7
        },
        {
          "output_type": "display_data",
          "data": {
            "image/png": "[encoded data removed]",
            "text/plain": [
              "<Figure size 432x288 with 1 Axes>"
            ]
          },
          "metadata": {
            "tags": [],
            "needs_background": "light"
          }
        }
      ]
    },
    {
      "cell_type": "code",
      "metadata": {
        "colab": {
          "base_uri": "https://localhost:8080/",
          "height": 282
        },
        "id": "_-mzVYXmyJ0Y",
        "outputId": "f7a150b0-b323-4c81-cb3d-e42c07533a10"
      },
      "source": [
        "x2 = [\"A\", \"B\", \"C\", \"D\", \"E\", \"F\", \"G\"]\n",
        "Sales_value_per_transaction = [A_Sales/A_count, B_Sales/B_count, C_Sales/C_count, D_Sales/D_count, E_Sales/E_count, F_Sales/F_count, G_Sales/G_count]\n",
        "\n",
        "plt.plot(x2, Sales_value_per_transaction)"
      ],
      "execution_count": null,
      "outputs": [
        {
          "output_type": "execute_result",
          "data": {
            "text/plain": [
              "[<matplotlib.lines.Line2D at 0x7efde721c4d0>]"
            ]
          },
          "metadata": {
            "tags": []
          },
          "execution_count": 8
        },
        {
          "output_type": "display_data",
          "data": {
            "image/png": "[encoded data removed]",
            "text/plain": [
              "<Figure size 432x288 with 1 Axes>"
            ]
          },
          "metadata": {
            "tags": [],
            "needs_background": "light"
          }
        }
      ]
    },
    {
      "cell_type": "code",
      "metadata": {
        "id": "2lhU22errtTs"
      },
      "source": [
        "referral_Sales = 0\n",
        "referral_count = 0\n",
        "display_Sales = 0\n",
        "display_count = 0\n",
        "social_Sales = 0\n",
        "social_count = 0\n",
        "organic_search_Sales = 0\n",
        "organic_search_count = 0\n",
        "paid_search_Sales = 0\n",
        "paid_search_count = 0\n",
        "direct_traffic_Sales = 0\n",
        "direct_traffic_count = 0\n",
        "email_Sales = 0\n",
        "email_count = 0\n",
        "unknown_Sales = 0\n",
        "unknown_count = 0\n",
        "other_Sales = 0\n",
        "other_count = 0\n",
        "\n",
        "for i in range(len(dataset)):\n",
        "  if dataset[\"Origin\"][i] == \"referral\":\n",
        "    referral_Sales += int(dataset[\"Sales\"][i])\n",
        "    referral_count += 1\n",
        "\n",
        "  elif dataset[\"Origin\"][i] == \"display\":\n",
        "    display_Sales += int(dataset[\"Sales\"][i])\n",
        "    display_count += 1\n",
        "\n",
        "  elif dataset[\"Origin\"][i] == \"social\":\n",
        "    social_Sales += int(dataset[\"Sales\"][i])\n",
        "    social_count += 1\n",
        "\n",
        "  elif dataset[\"Origin\"][i] == \"organic_search\":\n",
        "    organic_search_Sales += int(dataset[\"Sales\"][i])\n",
        "    organic_search_count += 1\n",
        "\n",
        "  elif dataset[\"Origin\"][i] == \"paid_search\":\n",
        "    paid_search_Sales += int(dataset[\"Sales\"][i])\n",
        "    paid_search_count += 1\n",
        "\n",
        "  elif dataset[\"Origin\"][i] == \"direct_traffic\":\n",
        "    direct_traffic_Sales += int(dataset[\"Sales\"][i])\n",
        "    direct_traffic_count += 1\n",
        "\n",
        "  elif dataset[\"Origin\"][i] == \"email\":\n",
        "    email_Sales += int(dataset[\"Sales\"][i])\n",
        "    email_count += 1\n",
        "\n",
        "  elif dataset[\"Origin\"][i] == \"unknown\":\n",
        "    unknown_Sales += int(dataset[\"Sales\"][i])\n",
        "    unknown_count += 1\n",
        "\n",
        "  elif dataset[\"Origin\"][i] == \"other\":\n",
        "    other_Sales += int(dataset[\"Sales\"][i])\n",
        "    other_count += 1"
      ],
      "execution_count": null,
      "outputs": []
    },
    {
      "cell_type": "code",
      "metadata": {
        "colab": {
          "base_uri": "https://localhost:8080/",
          "height": 282
        },
        "id": "SmiK-G3RvJrF",
        "outputId": "fb27e025-08ae-42dd-ddfc-266cc01dffbe"
      },
      "source": [
        "#X = [\"referral_Sales\", \"display_Sales\", \"social_Sales\", \"organic_search_Sales\", \"paid_search_Sales\", \"direct_traffic_Sales\", \"email_Sales\", \"unknown_Sales\", \"other_Sales\"]\n",
        "X3 = [0,1,2,3,4,5,6,7,8]\n",
        "Origin_Values = [referral_Sales, display_Sales, social_Sales, organic_search_Sales, paid_search_Sales, direct_traffic_Sales, email_Sales, unknown_Sales, other_Sales]\n",
        "\n",
        "plt.plot(X3, Origin_Values, color=\"green\")"
      ],
      "execution_count": null,
      "outputs": [
        {
          "output_type": "execute_result",
          "data": {
            "text/plain": [
              "[<matplotlib.lines.Line2D at 0x7efde6819d90>]"
            ]
          },
          "metadata": {
            "tags": []
          },
          "execution_count": 10
        },
        {
          "output_type": "display_data",
          "data": {
            "image/png": "[encoded data removed]",
            "text/plain": [
              "<Figure size 432x288 with 1 Axes>"
            ]
          },
          "metadata": {
            "tags": [],
            "needs_background": "light"
          }
        }
      ]
    },
    {
      "cell_type": "code",
      "metadata": {
        "colab": {
          "base_uri": "https://localhost:8080/",
          "height": 282
        },
        "id": "XWcnsB_Uv7--",
        "outputId": "d41f3534-39fd-47ed-ea65-e6f4b4abb14e"
      },
      "source": [
        "#X = [\"referral_Sales\", \"display_Sales\", \"social_Sales\", \"organic_search_Sales\", \"paid_search_Sales\", \"direct_traffic_Sales\", \"email_Sales\", \"unknown_Sales\", \"other_Sales\"]\n",
        "X4 = [0,1,2,3,4,5,6,7,8]\n",
        "Origin_Values_per_transaction = [referral_Sales/referral_count, display_Sales/display_count, social_Sales/social_count, organic_search_Sales/organic_search_count, paid_search_Sales/paid_search_count, direct_traffic_Sales/direct_traffic_count, email_Sales/email_count, unknown_Sales/unknown_count, other_Sales/other_count]\n",
        "\n",
        "plt.plot(X4, Origin_Values_per_transaction, color=\"green\")"
      ],
      "execution_count": null,
      "outputs": [
        {
          "output_type": "execute_result",
          "data": {
            "text/plain": [
              "[<matplotlib.lines.Line2D at 0x7efde678f7d0>]"
            ]
          },
          "metadata": {
            "tags": []
          },
          "execution_count": 11
        },
        {
          "output_type": "display_data",
          "data": {
            "image/png": "[encoded data removed]",
            "text/plain": [
              "<Figure size 432x288 with 1 Axes>"
            ]
          },
          "metadata": {
            "tags": [],
            "needs_background": "light"
          }
        }
      ]
    },
    {
      "cell_type": "code",
      "metadata": {
        "id": "sN8DaAVQzBrt"
      },
      "source": [
        "East_Sales = 0\n",
        "East_count = 0\n",
        "West_Sales = 0\n",
        "West_count = 0\n",
        "South_Sales = 0\n",
        "South_count = 0\n",
        "North_Sales = 0\n",
        "North_count = 0\n",
        "Central_Sales = 0\n",
        "Central_count = 0\n",
        "\n",
        "for i in range(len(dataset)):\n",
        "  if dataset[\"Region\"][i] == \"East\":\n",
        "    East_Sales += int(dataset[\"Sales\"][i])\n",
        "    East_count += 1\n",
        "\n",
        "  elif dataset[\"Region\"][i] == \"West\":\n",
        "    West_Sales += int(dataset[\"Sales\"][i])\n",
        "    West_count += 1\n",
        "\n",
        "  elif dataset[\"Region\"][i] == \"South\":\n",
        "    South_Sales += int(dataset[\"Sales\"][i])\n",
        "    South_count += 1\n",
        "\n",
        "  elif dataset[\"Region\"][i] == \"North\":\n",
        "    North_Sales += int(dataset[\"Sales\"][i])\n",
        "    North_count += 1\n",
        "\n",
        "  elif dataset[\"Region\"][i] == \"Central\":\n",
        "    Central_Sales += int(dataset[\"Sales\"][i])\n",
        "    Central_count += 1"
      ],
      "execution_count": null,
      "outputs": []
    },
    {
      "cell_type": "code",
      "metadata": {
        "colab": {
          "base_uri": "https://localhost:8080/",
          "height": 282
        },
        "id": "Z-WyktNZ0qnv",
        "outputId": "db05844b-c3af-4599-d175-ded9d6cb7a75"
      },
      "source": [
        "X5 = [\"East\", \"West\", \"South\", \"North\", \"Central\"]\n",
        "Region_Values = [East_Sales, West_Sales, South_Sales, North_Sales, Central_Sales]\n",
        "\n",
        "plt.plot(X5, Region_Values, color=\"purple\")"
      ],
      "execution_count": null,
      "outputs": [
        {
          "output_type": "execute_result",
          "data": {
            "text/plain": [
              "[<matplotlib.lines.Line2D at 0x7efde6705f50>]"
            ]
          },
          "metadata": {
            "tags": []
          },
          "execution_count": 13
        },
        {
          "output_type": "display_data",
          "data": {
            "image/png": "[encoded data removed]",
            "text/plain": [
              "<Figure size 432x288 with 1 Axes>"
            ]
          },
          "metadata": {
            "tags": [],
            "needs_background": "light"
          }
        }
      ]
    },
    {
      "cell_type": "code",
      "metadata": {
        "colab": {
          "base_uri": "https://localhost:8080/",
          "height": 282
        },
        "id": "iMoQr7F906FJ",
        "outputId": "a4accd92-5312-41cc-b094-5393b704ce54"
      },
      "source": [
        "X6 = [\"East\", \"West\", \"South\", \"North\", \"Central\"]\n",
        "Region_Values_per_transaction = [East_Sales/East_count, West_Sales/West_count, South_Sales/South_count, North_Sales/North_count, Central_Sales/Central_count]\n",
        "\n",
        "plt.plot(X6, Region_Values_per_transaction, color=\"purple\")"
      ],
      "execution_count": null,
      "outputs": [
        {
          "output_type": "execute_result",
          "data": {
            "text/plain": [
              "[<matplotlib.lines.Line2D at 0x7efde6669f50>]"
            ]
          },
          "metadata": {
            "tags": []
          },
          "execution_count": 14
        },
        {
          "output_type": "display_data",
          "data": {
            "image/png": "[encoded data removed]",
            "text/plain": [
              "<Figure size 432x288 with 1 Axes>"
            ]
          },
          "metadata": {
            "tags": [],
            "needs_background": "light"
          }
        }
      ]
    },
    {
      "cell_type": "code",
      "metadata": {
        "id": "tiAO4IP-2cj0"
      },
      "source": [
        "A_refunded_count = 0\n",
        "B_refunded_count = 0\n",
        "C_refunded_count = 0\n",
        "D_refunded_count = 0\n",
        "E_refunded_count = 0\n",
        "F_refunded_count = 0\n",
        "G_refunded_count = 0\n",
        "\n",
        "for i in range(len(dataset)):\n",
        "  if dataset[\"Product\"][i] == \"A\":\n",
        "    if dataset[\"Refunded\"][i] == True:\n",
        "      A_refunded_count += 1\n",
        "\n",
        "  if dataset[\"Product\"][i] == \"B\":\n",
        "    if dataset[\"Refunded\"][i] == True:\n",
        "      B_refunded_count += 1\n",
        "  \n",
        "  if dataset[\"Product\"][i] == \"C\":\n",
        "    if dataset[\"Refunded\"][i] == True:\n",
        "      C_refunded_count += 1\n",
        "  \n",
        "  if dataset[\"Product\"][i] == \"D\":\n",
        "    if dataset[\"Refunded\"][i] == True:\n",
        "      D_refunded_count += 1\n",
        "\n",
        "  if dataset[\"Product\"][i] == \"E\":\n",
        "    if dataset[\"Refunded\"][i] == True:\n",
        "      E_refunded_count += 1\n",
        "\n",
        "  if dataset[\"Product\"][i] == \"E\":\n",
        "    if dataset[\"Refunded\"][i] == True:\n",
        "      F_refunded_count += 1\n",
        "\n",
        "  if dataset[\"Product\"][i] == \"F\":\n",
        "    if dataset[\"Refunded\"][i] == True:\n",
        "      G_refunded_count += 1\n",
        "\n",
        "  if dataset[\"Product\"][i] == \"G\":\n",
        "    if dataset[\"Refunded\"][i] == True:\n",
        "      H_refunded_count += 1"
      ],
      "execution_count": null,
      "outputs": []
    },
    {
      "cell_type": "code",
      "metadata": {
        "colab": {
          "base_uri": "https://localhost:8080/",
          "height": 282
        },
        "id": "LzfwC7R-4pzF",
        "outputId": "17142013-eabf-466a-a586-96885c8d51b7"
      },
      "source": [
        "x7 = [\"A\", \"B\", \"C\", \"D\", \"E\", \"F\", \"G\"]\n",
        "Refunded_value = [A_refunded_count, B_refunded_count, C_refunded_count, D_refunded_count, E_refunded_count, F_refunded_count, G_refunded_count]\n",
        "\n",
        "plt.scatter(x7, Refunded_value)"
      ],
      "execution_count": null,
      "outputs": [
        {
          "output_type": "execute_result",
          "data": {
            "text/plain": [
              "<matplotlib.collections.PathCollection at 0x7efde665d0d0>"
            ]
          },
          "metadata": {
            "tags": []
          },
          "execution_count": 16
        },
        {
          "output_type": "display_data",
          "data": {
            "image/png": "[encoded data removed]",
            "text/plain": [
              "<Figure size 432x288 with 1 Axes>"
            ]
          },
          "metadata": {
            "tags": [],
            "needs_background": "light"
          }
        }
      ]
    },
    {
      "cell_type": "code",
      "metadata": {
        "id": "suTD9P2i5K-V"
      },
      "source": [
        "referral_refunded_count = 0\n",
        "display_refunded_count = 0\n",
        "social_refunded_count = 0\n",
        "organic_search_refunded_count = 0\n",
        "paid_search_refunded_count = 0\n",
        "direct_traffic_refunded_count = 0\n",
        "email_refunded_count = 0\n",
        "unknown_refunded_count = 0\n",
        "other_refunded_count = 0\n",
        "\n",
        "\n",
        "for i in range(len(dataset)):\n",
        "  if dataset[\"Origin\"][i] == \"referral\":\n",
        "    if dataset[\"Refunded\"][i] == True:\n",
        "      referral_refunded_count += 1\n",
        "\n",
        "  if dataset[\"Origin\"][i] == \"display\":\n",
        "    if dataset[\"Refunded\"][i] == True:\n",
        "      display_refunded_count += 1\n",
        "  \n",
        "  if dataset[\"Origin\"][i] == \"social\":\n",
        "    if dataset[\"Refunded\"][i] == True:\n",
        "      social_refunded_count += 1\n",
        "  \n",
        "  if dataset[\"Origin\"][i] == \"organic_search\":\n",
        "    if dataset[\"Refunded\"][i] == True:\n",
        "      organic_search_refunded_count += 1\n",
        "\n",
        "  if dataset[\"Origin\"][i] == \"paid_search\":\n",
        "    if dataset[\"Refunded\"][i] == True:\n",
        "      paid_search_refunded_count += 1\n",
        "\n",
        "  if dataset[\"Origin\"][i] == \"direct_traffic\":\n",
        "    if dataset[\"Refunded\"][i] == True:\n",
        "      direct_traffic_refunded_count += 1\n",
        "\n",
        "  if dataset[\"Origin\"][i] == \"email\":\n",
        "    if dataset[\"Refunded\"][i] == True:\n",
        "      email_refunded_count += 1\n",
        "\n",
        "  if dataset[\"Origin\"][i] == \"unknown\":\n",
        "    if dataset[\"Refunded\"][i] == True:\n",
        "      unknown_refunded_count += 1\n",
        "\n",
        "  if dataset[\"Origin\"][i] == \"other\":\n",
        "    if dataset[\"Refunded\"][i] == True:\n",
        "      other_refunded_count += 1"
      ],
      "execution_count": null,
      "outputs": []
    },
    {
      "cell_type": "code",
      "metadata": {
        "colab": {
          "base_uri": "https://localhost:8080/",
          "height": 282
        },
        "id": "k9SwOUKP7McP",
        "outputId": "d0331fb0-1e25-4f40-80a0-b1a86b4a53db"
      },
      "source": [
        "Refund_value_origin = [referral_refunded_count, display_refunded_count, social_refunded_count, organic_search_refunded_count, paid_search_refunded_count, direct_traffic_refunded_count, email_refunded_count, unknown_refunded_count, other_refunded_count]\n",
        "X8 = [0,1,2,3,4,5,6,7,8]\n",
        "\n",
        "plt.scatter(X8, Refund_value_origin, color=\"green\")"
      ],
      "execution_count": null,
      "outputs": [
        {
          "output_type": "execute_result",
          "data": {
            "text/plain": [
              "<matplotlib.collections.PathCollection at 0x7efde661e8d0>"
            ]
          },
          "metadata": {
            "tags": []
          },
          "execution_count": 18
        },
        {
          "output_type": "display_data",
          "data": {
            "image/png": "[encoded data removed]",
            "text/plain": [
              "<Figure size 432x288 with 1 Axes>"
            ]
          },
          "metadata": {
            "tags": [],
            "needs_background": "light"
          }
        }
      ]
    },
    {
      "cell_type": "code",
      "metadata": {
        "id": "Ni6eYfjg8T7h"
      },
      "source": [
        "East_refunded_count = 0\n",
        "West_refunded_count = 0\n",
        "South_refunded_count = 0\n",
        "North_refunded_count = 0\n",
        "Central_refunded_count = 0\n",
        "\n",
        "for i in range(len(dataset)):\n",
        "  if dataset[\"Region\"][i] == \"East\":\n",
        "    if dataset[\"Refunded\"][i] == True:\n",
        "      East_refunded_count += 1\n",
        "\n",
        "  if dataset[\"Region\"][i] == \"West\":\n",
        "    if dataset[\"Refunded\"][i] == True:\n",
        "      West_refunded_count += 1\n",
        "  \n",
        "  if dataset[\"Region\"][i] == \"South\":\n",
        "    if dataset[\"Refunded\"][i] == True:\n",
        "      South_refunded_count += 1\n",
        "  \n",
        "  if dataset[\"Region\"][i] == \"North\":\n",
        "    if dataset[\"Refunded\"][i] == True:\n",
        "      North_refunded_count += 1\n",
        "\n",
        "  if dataset[\"Region\"][i] == \"Central\":\n",
        "    if dataset[\"Refunded\"][i] == True:\n",
        "      Central_refunded_count += 1"
      ],
      "execution_count": null,
      "outputs": []
    },
    {
      "cell_type": "code",
      "metadata": {
        "colab": {
          "base_uri": "https://localhost:8080/",
          "height": 282
        },
        "id": "SSyzXJo_89hg",
        "outputId": "f43745d4-6ea5-4630-b68b-27638582b91f"
      },
      "source": [
        "X9 = [\"East\", \"West\", \"South\", \"North\", \"Central\"]\n",
        "Region_refunded_values = [East_refunded_count, West_refunded_count, South_refunded_count, North_refunded_count, Central_refunded_count]\n",
        "\n",
        "plt.scatter(X9, Region_refunded_values, color=\"purple\")"
      ],
      "execution_count": null,
      "outputs": [
        {
          "output_type": "execute_result",
          "data": {
            "text/plain": [
              "<matplotlib.collections.PathCollection at 0x7efde65dad10>"
            ]
          },
          "metadata": {
            "tags": []
          },
          "execution_count": 20
        },
        {
          "output_type": "display_data",
          "data": {
            "image/png": "[encoded data removed]",
            "text/plain": [
              "<Figure size 432x288 with 1 Axes>"
            ]
          },
          "metadata": {
            "tags": [],
            "needs_background": "light"
          }
        }
      ]
    },
    {
      "cell_type": "code",
      "metadata": {
        "id": "-FXuPoaO9SrV"
      },
      "source": [
        "A_Time = 0\n",
        "B_Time = 0\n",
        "C_Time = 0\n",
        "D_Time = 0\n",
        "E_Time = 0\n",
        "F_Time = 0\n",
        "G_Time = 0\n",
        "\n",
        "for i in range(len(dataset)):\n",
        "  if dataset[\"Product\"][i] == \"A\":\n",
        "    A_Time += int(dataset[\"Time\"][i])\n",
        "\n",
        "  elif dataset[\"Product\"][i] == \"B\":\n",
        "    B_Time += int(dataset[\"Time\"][i])\n",
        "\n",
        "  elif dataset[\"Product\"][i] == \"C\":\n",
        "    C_Time += int(dataset[\"Time\"][i])\n",
        "\n",
        "  elif dataset[\"Product\"][i] == \"D\":\n",
        "    D_Time += int(dataset[\"Time\"][i])\n",
        "\n",
        "  elif dataset[\"Product\"][i] == \"E\":\n",
        "    E_Time += int(dataset[\"Time\"][i])\n",
        "\n",
        "  elif dataset[\"Product\"][i] == \"F\":\n",
        "    F_Time += int(dataset[\"Time\"][i])\n",
        "\n",
        "  elif dataset[\"Product\"][i] == \"G\":\n",
        "    G_Time += int(dataset[\"Time\"][i])"
      ],
      "execution_count": null,
      "outputs": []
    },
    {
      "cell_type": "code",
      "metadata": {
        "colab": {
          "base_uri": "https://localhost:8080/",
          "height": 282
        },
        "id": "2Q_IvYpk-tfC",
        "outputId": "8e6a77b3-06c8-42f5-d1e0-815eb808ce49"
      },
      "source": [
        "x10 = [\"A\", \"B\", \"C\", \"D\", \"E\", \"F\", \"G\"]\n",
        "Time_value = [A_Time/A_count, B_Time/B_count, C_Time/C_count, D_Time/D_count, E_Time/E_count, F_Time/F_count, G_Time/G_count]\n",
        "\n",
        "plt.bar(x10, Time_value)"
      ],
      "execution_count": null,
      "outputs": [
        {
          "output_type": "execute_result",
          "data": {
            "text/plain": [
              "<BarContainer object of 7 artists>"
            ]
          },
          "metadata": {
            "tags": []
          },
          "execution_count": 22
        },
        {
          "output_type": "display_data",
          "data": {
            "image/png": "[encoded data removed]",
            "text/plain": [
              "<Figure size 432x288 with 1 Axes>"
            ]
          },
          "metadata": {
            "tags": [],
            "needs_background": "light"
          }
        }
      ]
    },
    {
      "cell_type": "code",
      "metadata": {
        "id": "GZjaD06y_EwN"
      },
      "source": [
        "referral_time = 0\n",
        "display_time = 0\n",
        "social_time = 0\n",
        "organic_search_time = 0\n",
        "paid_search_time = 0\n",
        "direct_traffic_time = 0\n",
        "email_time = 0\n",
        "unknown_time = 0\n",
        "other_time = 0\n",
        "\n",
        "for i in range(len(dataset)):\n",
        "  if dataset[\"Origin\"][i] == \"referral\":\n",
        "    referral_time += int(dataset[\"Time\"][i])\n",
        "\n",
        "  elif dataset[\"Origin\"][i] == \"display\":\n",
        "    display_time += int(dataset[\"Time\"][i])\n",
        "\n",
        "  elif dataset[\"Origin\"][i] == \"social\":\n",
        "    social_time += int(dataset[\"Time\"][i])\n",
        "\n",
        "  elif dataset[\"Origin\"][i] == \"organic_search\":\n",
        "    organic_search_time += int(dataset[\"Time\"][i])\n",
        "\n",
        "  elif dataset[\"Origin\"][i] == \"paid_search\":\n",
        "    paid_search_time += int(dataset[\"Time\"][i])\n",
        "\n",
        "  elif dataset[\"Origin\"][i] == \"direct_traffic\":\n",
        "    direct_traffic_time += int(dataset[\"Time\"][i])\n",
        "\n",
        "  elif dataset[\"Origin\"][i] == \"email\":\n",
        "    email_time += int(dataset[\"Time\"][i])\n",
        "\n",
        "  elif dataset[\"Origin\"][i] == \"unknown\":\n",
        "    unknown_time += int(dataset[\"Time\"][i])\n",
        "\n",
        "  elif dataset[\"Origin\"][i] == \"other\":\n",
        "    other_time += int(dataset[\"Time\"][i])"
      ],
      "execution_count": null,
      "outputs": []
    },
    {
      "cell_type": "code",
      "metadata": {
        "colab": {
          "base_uri": "https://localhost:8080/",
          "height": 282
        },
        "id": "jTp1gYskACAB",
        "outputId": "9f437870-33d5-4e7a-d11b-d8656c149294"
      },
      "source": [
        "X11 = [0,1,2,3,4,5,6,7,8]\n",
        "origin_time = [referral_time/referral_count, display_time/display_count,\n",
        "               social_time/social_count, organic_search_time/organic_search_count,\n",
        "               paid_search_time/paid_search_count,\n",
        "               direct_traffic_time/direct_traffic_count,\n",
        "               email_time/email_count, unknown_time/unknown_count, other_count]\n",
        "plt.bar(X11, origin_time, color=\"green\")"
      ],
      "execution_count": null,
      "outputs": [
        {
          "output_type": "execute_result",
          "data": {
            "text/plain": [
              "<BarContainer object of 9 artists>"
            ]
          },
          "metadata": {
            "tags": []
          },
          "execution_count": 24
        },
        {
          "output_type": "display_data",
          "data": {
            "image/png": "[encoded data removed]",
            "text/plain": [
              "<Figure size 432x288 with 1 Axes>"
            ]
          },
          "metadata": {
            "tags": [],
            "needs_background": "light"
          }
        }
      ]
    },
    {
      "cell_type": "code",
      "metadata": {
        "id": "Dek0B6TCAj98"
      },
      "source": [
        "East_time = 0\n",
        "West_time = 0\n",
        "South_time = 0\n",
        "North_time = 0\n",
        "Central_time = 0\n",
        "\n",
        "for i in range(len(dataset)):\n",
        "  if dataset[\"Region\"][i] == \"East\":\n",
        "    East_time += int(dataset[\"Time\"][i])\n",
        "    \n",
        "  elif dataset[\"Region\"][i] == \"West\":\n",
        "    West_time += int(dataset[\"Time\"][i])\n",
        "    \n",
        "  elif dataset[\"Region\"][i] == \"South\":\n",
        "    South_time += int(dataset[\"Time\"][i])\n",
        "    \n",
        "  elif dataset[\"Region\"][i] == \"North\":\n",
        "    North_time += int(dataset[\"Time\"][i])\n",
        "\n",
        "  elif dataset[\"Region\"][i] == \"North\":\n",
        "    Central_time += int(dataset[\"Time\"][i])"
      ],
      "execution_count": null,
      "outputs": []
    },
    {
      "cell_type": "code",
      "metadata": {
        "colab": {
          "base_uri": "https://localhost:8080/",
          "height": 282
        },
        "id": "lf94VIo9BWKM",
        "outputId": "ab48ef8b-9189-4d40-d03f-ed697c1a7a91"
      },
      "source": [
        "X12 = [\"East\", \"West\", \"South\", \"North\", \"Central\"]\n",
        "Region_time = [East_time/East_count, West_time/West_count,\n",
        "               South_time/South_count, North_time/North_count,\n",
        "               Central_time/Central_count]\n",
        "\n",
        "plt.bar(X12, Region_time, color=\"purple\")"
      ],
      "execution_count": null,
      "outputs": [
        {
          "output_type": "execute_result",
          "data": {
            "text/plain": [
              "<BarContainer object of 5 artists>"
            ]
          },
          "metadata": {
            "tags": []
          },
          "execution_count": 26
        },
        {
          "output_type": "display_data",
          "data": {
            "image/png": "[encoded data removed]",
            "text/plain": [
              "<Figure size 432x288 with 1 Axes>"
            ]
          },
          "metadata": {
            "tags": [],
            "needs_background": "light"
          }
        }
      ]
    },
    {
      "cell_type": "markdown",
      "metadata": {
        "id": "eBAKqq2xCvdW"
      },
      "source": [
        "# **Thank You!**\n",
        "\n",
        "---"
      ]
    }
  ]
}